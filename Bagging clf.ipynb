{
 "cells": [
  {
   "cell_type": "markdown",
   "metadata": {},
   "source": [
    "  ## Bagging is used imporve acciracy of Classification and redretion"
   ]
  },
  {
   "cell_type": "code",
   "execution_count": 44,
   "metadata": {},
   "outputs": [],
   "source": [
    "from sklearn.datasets import make_circles"
   ]
  },
  {
   "cell_type": "code",
   "execution_count": 45,
   "metadata": {
    "collapsed": true
   },
   "outputs": [
    {
     "data": {
      "text/plain": [
       "(array([[-3.09016994e-01,  9.51056516e-01],\n",
       "        [ 8.09016994e-01,  5.87785252e-01],\n",
       "        [ 3.40623433e-01, -7.23861642e-01],\n",
       "        [ 5.35826795e-01,  8.44327926e-01],\n",
       "        [-5.35826795e-01, -8.44327926e-01],\n",
       "        [-7.28968627e-01, -6.84547106e-01],\n",
       "        [ 5.83174902e-01,  5.47637685e-01],\n",
       "        [-7.93691761e-01, -1.00266587e-01],\n",
       "        [ 8.00000000e-01,  0.00000000e+00],\n",
       "        [-8.09016994e-01,  5.87785252e-01],\n",
       "        [-5.83174902e-01,  5.47637685e-01],\n",
       "        [-2.47213595e-01,  7.60845213e-01],\n",
       "        [ 6.27905195e-02,  9.98026728e-01],\n",
       "        [-7.01045344e-01,  3.85402939e-01],\n",
       "        [-1.87381315e-01,  9.82287251e-01],\n",
       "        [-3.09016994e-01, -9.51056516e-01],\n",
       "        [-7.74866529e-01, -1.98951910e-01],\n",
       "        [ 9.68583161e-01,  2.48689887e-01],\n",
       "        [ 7.93691761e-01, -1.00266587e-01],\n",
       "        [-3.40623433e-01,  7.23861642e-01],\n",
       "        [ 9.68583161e-01, -2.48689887e-01],\n",
       "        [-8.76306680e-01,  4.81753674e-01],\n",
       "        [ 5.83174902e-01, -5.47637685e-01],\n",
       "        [ 5.09939192e-01, -6.16410594e-01],\n",
       "        [-8.09016994e-01, -5.87785252e-01],\n",
       "        [-5.35826795e-01,  8.44327926e-01],\n",
       "        [ 1.49905052e-01,  7.85829801e-01],\n",
       "        [ 7.93691761e-01,  1.00266587e-01],\n",
       "        [ 6.27905195e-02, -9.98026728e-01],\n",
       "        [ 1.49905052e-01, -7.85829801e-01],\n",
       "        [-6.47213595e-01,  4.70228202e-01],\n",
       "        [-7.93691761e-01,  1.00266587e-01],\n",
       "        [-6.27905195e-02,  9.98026728e-01],\n",
       "        [-9.68583161e-01,  2.48689887e-01],\n",
       "        [ 7.74866529e-01,  1.98951910e-01],\n",
       "        [ 3.09016994e-01, -9.51056516e-01],\n",
       "        [ 3.40623433e-01,  7.23861642e-01],\n",
       "        [-9.29776486e-01,  3.68124553e-01],\n",
       "        [ 9.29776486e-01, -3.68124553e-01],\n",
       "        [ 4.25779292e-01,  9.04827052e-01],\n",
       "        [ 7.74866529e-01, -1.98951910e-01],\n",
       "        [-9.68583161e-01, -2.48689887e-01],\n",
       "        [ 1.00000000e+00,  0.00000000e+00],\n",
       "        [-4.28661436e-01,  6.75462340e-01],\n",
       "        [ 5.02324156e-02,  7.98421383e-01],\n",
       "        [ 6.37423990e-01, -7.70513243e-01],\n",
       "        [ 9.92114701e-01, -1.25333234e-01],\n",
       "        [ 5.35826795e-01, -8.44327926e-01],\n",
       "        [-5.83174902e-01, -5.47637685e-01],\n",
       "        [-1.87381315e-01, -9.82287251e-01],\n",
       "        [ 4.28661436e-01, -6.75462340e-01],\n",
       "        [ 6.37423990e-01,  7.70513243e-01],\n",
       "        [-8.76306680e-01, -4.81753674e-01],\n",
       "        [-5.09939192e-01, -6.16410594e-01],\n",
       "        [ 7.28968627e-01,  6.84547106e-01],\n",
       "        [ 7.43821189e-01, -2.94499642e-01],\n",
       "        [-9.92114701e-01, -1.25333234e-01],\n",
       "        [-6.37423990e-01,  7.70513243e-01],\n",
       "        [ 9.29776486e-01,  3.68124553e-01],\n",
       "        [-5.09939192e-01,  6.16410594e-01],\n",
       "        [-4.28661436e-01, -6.75462340e-01],\n",
       "        [-9.92114701e-01,  1.25333234e-01],\n",
       "        [-6.27905195e-02, -9.98026728e-01],\n",
       "        [ 2.47213595e-01, -7.60845213e-01],\n",
       "        [ 3.09016994e-01,  9.51056516e-01],\n",
       "        [-4.25779292e-01,  9.04827052e-01],\n",
       "        [ 7.28968627e-01, -6.84547106e-01],\n",
       "        [ 4.28661436e-01,  6.75462340e-01],\n",
       "        [-5.02324156e-02,  7.98421383e-01],\n",
       "        [ 7.01045344e-01, -3.85402939e-01],\n",
       "        [-6.37423990e-01, -7.70513243e-01],\n",
       "        [-6.47213595e-01, -4.70228202e-01],\n",
       "        [-7.43821189e-01,  2.94499642e-01],\n",
       "        [-1.49905052e-01, -7.85829801e-01],\n",
       "        [ 6.47213595e-01, -4.70228202e-01],\n",
       "        [ 1.87381315e-01, -9.82287251e-01],\n",
       "        [ 8.76306680e-01, -4.81753674e-01],\n",
       "        [ 8.76306680e-01,  4.81753674e-01],\n",
       "        [-8.00000000e-01, -2.57299624e-16],\n",
       "        [ 5.02324156e-02, -7.98421383e-01],\n",
       "        [-7.74866529e-01,  1.98951910e-01],\n",
       "        [-2.47213595e-01, -7.60845213e-01],\n",
       "        [ 9.92114701e-01,  1.25333234e-01],\n",
       "        [ 4.25779292e-01, -9.04827052e-01],\n",
       "        [ 5.09939192e-01,  6.16410594e-01],\n",
       "        [-7.28968627e-01,  6.84547106e-01],\n",
       "        [ 6.47213595e-01,  4.70228202e-01],\n",
       "        [-5.02324156e-02, -7.98421383e-01],\n",
       "        [-7.01045344e-01, -3.85402939e-01],\n",
       "        [ 7.43821189e-01,  2.94499642e-01],\n",
       "        [ 1.87381315e-01,  9.82287251e-01],\n",
       "        [-1.00000000e+00, -3.21624530e-16],\n",
       "        [ 2.47213595e-01,  7.60845213e-01],\n",
       "        [ 8.09016994e-01, -5.87785252e-01],\n",
       "        [-9.29776486e-01, -3.68124553e-01],\n",
       "        [ 7.01045344e-01,  3.85402939e-01],\n",
       "        [-1.49905052e-01,  7.85829801e-01],\n",
       "        [-4.25779292e-01, -9.04827052e-01],\n",
       "        [-3.40623433e-01, -7.23861642e-01],\n",
       "        [-7.43821189e-01, -2.94499642e-01]]),\n",
       " array([0, 0, 1, 0, 0, 0, 1, 1, 1, 0, 1, 1, 0, 1, 0, 0, 1, 0, 1, 1, 0, 0,\n",
       "        1, 1, 0, 0, 1, 1, 0, 1, 1, 1, 0, 0, 1, 0, 1, 0, 0, 0, 1, 0, 0, 1,\n",
       "        1, 0, 0, 0, 1, 0, 1, 0, 0, 1, 0, 1, 0, 0, 0, 1, 1, 0, 0, 1, 0, 0,\n",
       "        0, 1, 1, 1, 0, 1, 1, 1, 1, 0, 0, 0, 1, 1, 1, 1, 0, 0, 1, 0, 1, 1,\n",
       "        1, 1, 0, 0, 1, 0, 0, 1, 1, 0, 1, 1], dtype=int64))"
      ]
     },
     "execution_count": 45,
     "metadata": {},
     "output_type": "execute_result"
    }
   ],
   "source": [
    "data=make_circles()\n",
    "data"
   ]
  },
  {
   "cell_type": "code",
   "execution_count": 46,
   "metadata": {},
   "outputs": [],
   "source": [
    "x,y=make_circles(n_samples=50,random_state=42)"
   ]
  },
  {
   "cell_type": "code",
   "execution_count": 47,
   "metadata": {},
   "outputs": [],
   "source": [
    "from sklearn.model_selection import train_test_split\n",
    "x_train,x_test,y_train,y_test=train_test_split(x,y,test_size=0.3,random_state=42)"
   ]
  },
  {
   "cell_type": "code",
   "execution_count": 48,
   "metadata": {},
   "outputs": [],
   "source": [
    "from sklearn.ensemble import RandomForestClassifier\n",
    "rmc=RandomForestClassifier()"
   ]
  },
  {
   "cell_type": "code",
   "execution_count": 49,
   "metadata": {
    "collapsed": true
   },
   "outputs": [
    {
     "name": "stderr",
     "output_type": "stream",
     "text": [
      "C:\\Users\\user8\\Anaconda3\\lib\\site-packages\\sklearn\\ensemble\\forest.py:245: FutureWarning: The default value of n_estimators will change from 10 in version 0.20 to 100 in 0.22.\n",
      "  \"10 in version 0.20 to 100 in 0.22.\", FutureWarning)\n"
     ]
    },
    {
     "data": {
      "text/plain": [
       "RandomForestClassifier(bootstrap=True, class_weight=None, criterion='gini',\n",
       "                       max_depth=None, max_features='auto', max_leaf_nodes=None,\n",
       "                       min_impurity_decrease=0.0, min_impurity_split=None,\n",
       "                       min_samples_leaf=1, min_samples_split=2,\n",
       "                       min_weight_fraction_leaf=0.0, n_estimators=10,\n",
       "                       n_jobs=None, oob_score=False, random_state=None,\n",
       "                       verbose=0, warm_start=False)"
      ]
     },
     "execution_count": 49,
     "metadata": {},
     "output_type": "execute_result"
    }
   ],
   "source": [
    "rmc.fit(x_train,y_train)"
   ]
  },
  {
   "cell_type": "code",
   "execution_count": 50,
   "metadata": {},
   "outputs": [],
   "source": [
    "y_prd=rmc.predict(x_test)"
   ]
  },
  {
   "cell_type": "code",
   "execution_count": 51,
   "metadata": {},
   "outputs": [
    {
     "data": {
      "text/plain": [
       "0.6"
      ]
     },
     "execution_count": 51,
     "metadata": {},
     "output_type": "execute_result"
    }
   ],
   "source": [
    "from sklearn.metrics import accuracy_score\n",
    "accuracy_score(y_test,y_prd)"
   ]
  },
  {
   "cell_type": "code",
   "execution_count": 52,
   "metadata": {},
   "outputs": [],
   "source": [
    "from sklearn.ensemble import BaggingClassifier\n",
    "bc=BaggingClassifier(RandomForestClassifier(max_depth=21))"
   ]
  },
  {
   "cell_type": "code",
   "execution_count": 53,
   "metadata": {
    "collapsed": true
   },
   "outputs": [
    {
     "name": "stderr",
     "output_type": "stream",
     "text": [
      "C:\\Users\\user8\\Anaconda3\\lib\\site-packages\\sklearn\\ensemble\\forest.py:245: FutureWarning: The default value of n_estimators will change from 10 in version 0.20 to 100 in 0.22.\n",
      "  \"10 in version 0.20 to 100 in 0.22.\", FutureWarning)\n",
      "C:\\Users\\user8\\Anaconda3\\lib\\site-packages\\sklearn\\ensemble\\forest.py:245: FutureWarning: The default value of n_estimators will change from 10 in version 0.20 to 100 in 0.22.\n",
      "  \"10 in version 0.20 to 100 in 0.22.\", FutureWarning)\n",
      "C:\\Users\\user8\\Anaconda3\\lib\\site-packages\\sklearn\\ensemble\\forest.py:245: FutureWarning: The default value of n_estimators will change from 10 in version 0.20 to 100 in 0.22.\n",
      "  \"10 in version 0.20 to 100 in 0.22.\", FutureWarning)\n",
      "C:\\Users\\user8\\Anaconda3\\lib\\site-packages\\sklearn\\ensemble\\forest.py:245: FutureWarning: The default value of n_estimators will change from 10 in version 0.20 to 100 in 0.22.\n",
      "  \"10 in version 0.20 to 100 in 0.22.\", FutureWarning)\n",
      "C:\\Users\\user8\\Anaconda3\\lib\\site-packages\\sklearn\\ensemble\\forest.py:245: FutureWarning: The default value of n_estimators will change from 10 in version 0.20 to 100 in 0.22.\n",
      "  \"10 in version 0.20 to 100 in 0.22.\", FutureWarning)\n",
      "C:\\Users\\user8\\Anaconda3\\lib\\site-packages\\sklearn\\ensemble\\forest.py:245: FutureWarning: The default value of n_estimators will change from 10 in version 0.20 to 100 in 0.22.\n",
      "  \"10 in version 0.20 to 100 in 0.22.\", FutureWarning)\n",
      "C:\\Users\\user8\\Anaconda3\\lib\\site-packages\\sklearn\\ensemble\\forest.py:245: FutureWarning: The default value of n_estimators will change from 10 in version 0.20 to 100 in 0.22.\n",
      "  \"10 in version 0.20 to 100 in 0.22.\", FutureWarning)\n",
      "C:\\Users\\user8\\Anaconda3\\lib\\site-packages\\sklearn\\ensemble\\forest.py:245: FutureWarning: The default value of n_estimators will change from 10 in version 0.20 to 100 in 0.22.\n",
      "  \"10 in version 0.20 to 100 in 0.22.\", FutureWarning)\n",
      "C:\\Users\\user8\\Anaconda3\\lib\\site-packages\\sklearn\\ensemble\\forest.py:245: FutureWarning: The default value of n_estimators will change from 10 in version 0.20 to 100 in 0.22.\n",
      "  \"10 in version 0.20 to 100 in 0.22.\", FutureWarning)\n",
      "C:\\Users\\user8\\Anaconda3\\lib\\site-packages\\sklearn\\ensemble\\forest.py:245: FutureWarning: The default value of n_estimators will change from 10 in version 0.20 to 100 in 0.22.\n",
      "  \"10 in version 0.20 to 100 in 0.22.\", FutureWarning)\n"
     ]
    },
    {
     "data": {
      "text/plain": [
       "BaggingClassifier(base_estimator=RandomForestClassifier(bootstrap=True,\n",
       "                                                        class_weight=None,\n",
       "                                                        criterion='gini',\n",
       "                                                        max_depth=21,\n",
       "                                                        max_features='auto',\n",
       "                                                        max_leaf_nodes=None,\n",
       "                                                        min_impurity_decrease=0.0,\n",
       "                                                        min_impurity_split=None,\n",
       "                                                        min_samples_leaf=1,\n",
       "                                                        min_samples_split=2,\n",
       "                                                        min_weight_fraction_leaf=0.0,\n",
       "                                                        n_estimators='warn',\n",
       "                                                        n_jobs=None,\n",
       "                                                        oob_score=False,\n",
       "                                                        random_state=None,\n",
       "                                                        verbose=0,\n",
       "                                                        warm_start=False),\n",
       "                  bootstrap=True, bootstrap_features=False, max_features=1.0,\n",
       "                  max_samples=1.0, n_estimators=10, n_jobs=None,\n",
       "                  oob_score=False, random_state=None, verbose=0,\n",
       "                  warm_start=False)"
      ]
     },
     "execution_count": 53,
     "metadata": {},
     "output_type": "execute_result"
    }
   ],
   "source": [
    "bc.fit(x_train,y_train)"
   ]
  },
  {
   "cell_type": "code",
   "execution_count": 54,
   "metadata": {},
   "outputs": [],
   "source": [
    "y_prd=bc.predict(x_test)"
   ]
  },
  {
   "cell_type": "code",
   "execution_count": 55,
   "metadata": {},
   "outputs": [
    {
     "data": {
      "text/plain": [
       "0.7333333333333333"
      ]
     },
     "execution_count": 55,
     "metadata": {},
     "output_type": "execute_result"
    }
   ],
   "source": [
    "from sklearn.metrics import accuracy_score\n",
    "accuracy_score(y_test,y_prd)"
   ]
  },
  {
   "cell_type": "markdown",
   "metadata": {},
   "source": [
    "###  "
   ]
  },
  {
   "cell_type": "markdown",
   "metadata": {},
   "source": [
    "##   "
   ]
  },
  {
   "cell_type": "code",
   "execution_count": 58,
   "metadata": {},
   "outputs": [],
   "source": [
    "from sklearn.datasets import make_moons"
   ]
  },
  {
   "cell_type": "code",
   "execution_count": 59,
   "metadata": {
    "collapsed": true
   },
   "outputs": [
    {
     "data": {
      "text/plain": [
       "(array([[ 2.84527587e-01,  9.58667853e-01],\n",
       "        [ 3.45365054e-01,  9.38468422e-01],\n",
       "        [-9.49055747e-01,  3.15108218e-01],\n",
       "        [ 1.15959990e+00, -4.87181783e-01],\n",
       "        [-9.60230259e-02,  9.95379113e-01],\n",
       "        [ 7.30832427e-02,  1.24732995e-01],\n",
       "        [ 2.05460725e-03,  4.35929780e-01],\n",
       "        [ 1.51839257e+00, -3.55142763e-01],\n",
       "        [ 8.38088105e-01,  5.45534901e-01],\n",
       "        [ 0.00000000e+00,  5.00000000e-01],\n",
       "        [ 6.23489802e-01,  7.81831482e-01],\n",
       "        [ 1.80141362e+00, -9.81105305e-02],\n",
       "        [ 1.98586378e-01, -9.81105305e-02],\n",
       "        [ 1.90096887e+00,  6.61162609e-02],\n",
       "        [-9.67294863e-01,  2.53654584e-01],\n",
       "        [ 1.84408430e-02,  3.08841371e-01],\n",
       "        [-5.72116660e-01,  8.20172255e-01],\n",
       "        [ 5.37461710e-01, -3.86599306e-01],\n",
       "        [ 1.28681296e-01,  9.28244800e-03],\n",
       "        [ 5.18392568e-01,  8.55142763e-01],\n",
       "        [-8.01413622e-01,  5.98110530e-01],\n",
       "        [ 2.00000000e+00,  5.00000000e-01],\n",
       "        [-9.26916757e-01,  3.75267005e-01],\n",
       "        [ 3.76510198e-01, -2.81831482e-01],\n",
       "        [-9.00968868e-01,  4.33883739e-01],\n",
       "        [ 1.92691676e+00,  1.24732995e-01],\n",
       "        [-9.97945393e-01,  6.40702200e-02],\n",
       "        [ 1.99179001e+00,  3.72122838e-01],\n",
       "        [ 9.26916757e-01,  3.75267005e-01],\n",
       "        [ 4.81607432e-01, -3.55142763e-01],\n",
       "        [ 1.98155916e+00,  3.08841371e-01],\n",
       "        [ 9.90311321e-02,  6.61162609e-02],\n",
       "        [-1.00000000e+00,  1.22464680e-16],\n",
       "        [ 1.62348980e+00, -2.81831482e-01],\n",
       "        [-6.72300890e-01,  7.40277997e-01],\n",
       "        [ 1.40478334e+00, -4.14412623e-01],\n",
       "        [ 1.28452759e+00, -4.58667853e-01],\n",
       "        [ 8.20998618e-03,  3.72122838e-01],\n",
       "        [ 1.34536505e+00, -4.38468422e-01],\n",
       "        [ 9.81559157e-01,  1.91158629e-01],\n",
       "        [ 9.67948422e-01, -4.99486216e-01],\n",
       "        [-3.20515776e-02,  9.99486216e-01],\n",
       "        [ 8.01413622e-01,  5.98110530e-01],\n",
       "        [-9.81559157e-01,  1.91158629e-01],\n",
       "        [ 5.72116660e-01,  8.20172255e-01],\n",
       "        [ 1.61911895e-01, -4.55349012e-02],\n",
       "        [ 5.95216657e-01, -4.14412623e-01],\n",
       "        [-2.22520934e-01,  9.74927912e-01],\n",
       "        [ 9.97945393e-01,  6.40702200e-02],\n",
       "        [ 3.27051370e-02,  2.46345416e-01],\n",
       "        [ 8.71318704e-01,  4.90717552e-01],\n",
       "        [ 9.60230259e-02,  9.95379113e-01],\n",
       "        [-2.84527587e-01,  9.58667853e-01],\n",
       "        [ 2.38554042e-01, -1.48228395e-01],\n",
       "        [ 1.46253829e+00, -3.86599306e-01],\n",
       "        [ 1.71834935e+00, -1.95682551e-01],\n",
       "        [ 1.76144596e+00, -1.48228395e-01],\n",
       "        [-1.59599895e-01,  9.87181783e-01],\n",
       "        [ 9.49055747e-01,  3.15108218e-01],\n",
       "        [-4.04783343e-01,  9.14412623e-01],\n",
       "        [-7.61445958e-01,  6.48228395e-01],\n",
       "        [ 7.61445958e-01,  6.48228395e-01],\n",
       "        [ 9.91790014e-01,  1.27877162e-01],\n",
       "        [ 4.04783343e-01,  9.14412623e-01],\n",
       "        [ 9.00968868e-01,  4.33883739e-01],\n",
       "        [ 3.27699110e-01, -2.40277997e-01],\n",
       "        [ 6.54634946e-01, -4.38468422e-01],\n",
       "        [-5.18392568e-01,  8.55142763e-01],\n",
       "        [-4.62538290e-01,  8.86599306e-01],\n",
       "        [ 1.67230089e+00, -2.40277997e-01],\n",
       "        [-8.71318704e-01,  4.90717552e-01],\n",
       "        [ 1.22252093e+00, -4.74927912e-01],\n",
       "        [ 7.15472413e-01, -4.58667853e-01],\n",
       "        [-3.45365054e-01,  9.38468422e-01],\n",
       "        [ 1.94905575e+00,  1.84891782e-01],\n",
       "        [ 3.20515776e-02,  9.99486216e-01],\n",
       "        [ 1.59599895e-01,  9.87181783e-01],\n",
       "        [ 6.72300890e-01,  7.40277997e-01],\n",
       "        [ 1.00000000e+00,  0.00000000e+00],\n",
       "        [-7.18349350e-01,  6.95682551e-01],\n",
       "        [ 5.09442530e-02,  1.84891782e-01],\n",
       "        [ 2.81650650e-01, -1.95682551e-01],\n",
       "        [-8.38088105e-01,  5.45534901e-01],\n",
       "        [ 4.62538290e-01,  8.86599306e-01],\n",
       "        [-6.23489802e-01,  7.81831482e-01],\n",
       "        [ 1.03205158e+00, -4.99486216e-01],\n",
       "        [-9.91790014e-01,  1.27877162e-01],\n",
       "        [ 1.83808810e+00, -4.55349012e-02],\n",
       "        [ 9.03976974e-01, -4.95379113e-01],\n",
       "        [ 1.96729486e+00,  2.46345416e-01],\n",
       "        [ 1.57211666e+00, -3.20172255e-01],\n",
       "        [ 1.09602303e+00, -4.95379113e-01],\n",
       "        [ 7.18349350e-01,  6.95682551e-01],\n",
       "        [ 1.99794539e+00,  4.35929780e-01],\n",
       "        [ 8.40400105e-01, -4.87181783e-01],\n",
       "        [ 9.67294863e-01,  2.53654584e-01],\n",
       "        [ 1.87131870e+00,  9.28244800e-03],\n",
       "        [ 2.22520934e-01,  9.74927912e-01],\n",
       "        [ 4.27883340e-01, -3.20172255e-01],\n",
       "        [ 7.77479066e-01, -4.74927912e-01]]),\n",
       " array([0, 0, 0, 1, 0, 1, 1, 1, 0, 1, 0, 1, 1, 1, 0, 1, 0, 1, 1, 0, 0, 1,\n",
       "        0, 1, 0, 1, 0, 1, 0, 1, 1, 1, 0, 1, 0, 1, 1, 1, 1, 0, 1, 0, 0, 0,\n",
       "        0, 1, 1, 0, 0, 1, 0, 0, 0, 1, 1, 1, 1, 0, 0, 0, 0, 0, 0, 0, 0, 1,\n",
       "        1, 0, 0, 1, 0, 1, 1, 0, 1, 0, 0, 0, 0, 0, 1, 1, 0, 0, 0, 1, 0, 1,\n",
       "        1, 1, 1, 1, 0, 1, 1, 0, 1, 0, 1, 1], dtype=int64))"
      ]
     },
     "execution_count": 59,
     "metadata": {},
     "output_type": "execute_result"
    }
   ],
   "source": [
    "mm=make_moons()\n",
    "mm"
   ]
  },
  {
   "cell_type": "code",
   "execution_count": 60,
   "metadata": {},
   "outputs": [],
   "source": [
    "x,y=make_moons(n_samples=50,random_state=42)"
   ]
  },
  {
   "cell_type": "code",
   "execution_count": 61,
   "metadata": {},
   "outputs": [],
   "source": [
    "from sklearn.model_selection import train_test_split\n",
    "x_train,x_test,y_train,y_test=train_test_split(x,y,test_size=0.3,random_state=42)"
   ]
  },
  {
   "cell_type": "code",
   "execution_count": 62,
   "metadata": {},
   "outputs": [],
   "source": [
    "from sklearn.tree import DecisionTreeClassifier \n",
    "dtc=DecisionTreeClassifier()"
   ]
  },
  {
   "cell_type": "code",
   "execution_count": 63,
   "metadata": {
    "collapsed": true
   },
   "outputs": [
    {
     "data": {
      "text/plain": [
       "DecisionTreeClassifier(class_weight=None, criterion='gini', max_depth=None,\n",
       "                       max_features=None, max_leaf_nodes=None,\n",
       "                       min_impurity_decrease=0.0, min_impurity_split=None,\n",
       "                       min_samples_leaf=1, min_samples_split=2,\n",
       "                       min_weight_fraction_leaf=0.0, presort=False,\n",
       "                       random_state=None, splitter='best')"
      ]
     },
     "execution_count": 63,
     "metadata": {},
     "output_type": "execute_result"
    }
   ],
   "source": [
    "dtc.fit(x_train,y_train)"
   ]
  },
  {
   "cell_type": "code",
   "execution_count": 64,
   "metadata": {},
   "outputs": [],
   "source": [
    "y_prd=dtc.predict(x_test)"
   ]
  },
  {
   "cell_type": "code",
   "execution_count": 65,
   "metadata": {},
   "outputs": [
    {
     "data": {
      "text/plain": [
       "1.0"
      ]
     },
     "execution_count": 65,
     "metadata": {},
     "output_type": "execute_result"
    }
   ],
   "source": [
    "from sklearn.metrics import accuracy_score\n",
    "accuracy_score(y_test,y_prd)"
   ]
  },
  {
   "cell_type": "code",
   "execution_count": null,
   "metadata": {},
   "outputs": [],
   "source": []
  }
 ],
 "metadata": {
  "kernelspec": {
   "display_name": "Python 3",
   "language": "python",
   "name": "python3"
  },
  "language_info": {
   "codemirror_mode": {
    "name": "ipython",
    "version": 3
   },
   "file_extension": ".py",
   "mimetype": "text/x-python",
   "name": "python",
   "nbconvert_exporter": "python",
   "pygments_lexer": "ipython3",
   "version": "3.7.4"
  }
 },
 "nbformat": 4,
 "nbformat_minor": 2
}
