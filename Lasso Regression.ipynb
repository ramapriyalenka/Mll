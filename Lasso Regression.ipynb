{
 "cells": [
  {
   "cell_type": "code",
   "execution_count": 1,
   "metadata": {},
   "outputs": [],
   "source": [
    "import pandas as pd"
   ]
  },
  {
   "cell_type": "code",
   "execution_count": 2,
   "metadata": {},
   "outputs": [],
   "source": [
    "df=pd.read_table(\"community.txt\",sep=',',na_values='?')\n",
    "df.dropna(inplace=True)"
   ]
  },
  {
   "cell_type": "code",
   "execution_count": 39,
   "metadata": {},
   "outputs": [
    {
     "data": {
      "text/html": [
       "<div>\n",
       "<style scoped>\n",
       "    .dataframe tbody tr th:only-of-type {\n",
       "        vertical-align: middle;\n",
       "    }\n",
       "\n",
       "    .dataframe tbody tr th {\n",
       "        vertical-align: top;\n",
       "    }\n",
       "\n",
       "    .dataframe thead th {\n",
       "        text-align: right;\n",
       "    }\n",
       "</style>\n",
       "<table border=\"1\" class=\"dataframe\">\n",
       "  <thead>\n",
       "    <tr style=\"text-align: right;\">\n",
       "      <th></th>\n",
       "      <th>population</th>\n",
       "      <th>householdsize</th>\n",
       "      <th>autoTheftPerPop</th>\n",
       "      <th>racePctWhite</th>\n",
       "      <th>burglPerPop</th>\n",
       "      <th>larcenies</th>\n",
       "      <th>larcPerPop</th>\n",
       "      <th>autoTheft</th>\n",
       "      <th>autoTheftPerPop</th>\n",
       "      <th>arsons</th>\n",
       "    </tr>\n",
       "  </thead>\n",
       "  <tbody>\n",
       "    <tr>\n",
       "      <td>54</td>\n",
       "      <td>332943</td>\n",
       "      <td>2.54</td>\n",
       "      <td>1394.26</td>\n",
       "      <td>76.96</td>\n",
       "      <td>1698.29</td>\n",
       "      <td>15251.0</td>\n",
       "      <td>4707.51</td>\n",
       "      <td>4517.0</td>\n",
       "      <td>1394.26</td>\n",
       "      <td>357.0</td>\n",
       "    </tr>\n",
       "    <tr>\n",
       "      <td>55</td>\n",
       "      <td>1585577</td>\n",
       "      <td>2.63</td>\n",
       "      <td>1554.73</td>\n",
       "      <td>53.52</td>\n",
       "      <td>988.14</td>\n",
       "      <td>39181.0</td>\n",
       "      <td>2561.10</td>\n",
       "      <td>23785.0</td>\n",
       "      <td>1554.73</td>\n",
       "      <td>2282.0</td>\n",
       "    </tr>\n",
       "    <tr>\n",
       "      <td>58</td>\n",
       "      <td>66049</td>\n",
       "      <td>2.63</td>\n",
       "      <td>273.97</td>\n",
       "      <td>72.45</td>\n",
       "      <td>833.83</td>\n",
       "      <td>2316.0</td>\n",
       "      <td>3448.48</td>\n",
       "      <td>184.0</td>\n",
       "      <td>273.97</td>\n",
       "      <td>50.0</td>\n",
       "    </tr>\n",
       "    <tr>\n",
       "      <td>99</td>\n",
       "      <td>130474</td>\n",
       "      <td>2.66</td>\n",
       "      <td>1566.00</td>\n",
       "      <td>53.85</td>\n",
       "      <td>2856.93</td>\n",
       "      <td>7719.0</td>\n",
       "      <td>6453.80</td>\n",
       "      <td>1873.0</td>\n",
       "      <td>1566.00</td>\n",
       "      <td>134.0</td>\n",
       "    </tr>\n",
       "    <tr>\n",
       "      <td>122</td>\n",
       "      <td>70487</td>\n",
       "      <td>2.59</td>\n",
       "      <td>646.41</td>\n",
       "      <td>81.61</td>\n",
       "      <td>1362.13</td>\n",
       "      <td>4048.0</td>\n",
       "      <td>5725.76</td>\n",
       "      <td>457.0</td>\n",
       "      <td>646.41</td>\n",
       "      <td>6.0</td>\n",
       "    </tr>\n",
       "    <tr>\n",
       "      <td>...</td>\n",
       "      <td>...</td>\n",
       "      <td>...</td>\n",
       "      <td>...</td>\n",
       "      <td>...</td>\n",
       "      <td>...</td>\n",
       "      <td>...</td>\n",
       "      <td>...</td>\n",
       "      <td>...</td>\n",
       "      <td>...</td>\n",
       "      <td>...</td>\n",
       "    </tr>\n",
       "    <tr>\n",
       "      <td>2086</td>\n",
       "      <td>63221</td>\n",
       "      <td>2.36</td>\n",
       "      <td>429.13</td>\n",
       "      <td>98.23</td>\n",
       "      <td>684.99</td>\n",
       "      <td>2059.0</td>\n",
       "      <td>3334.25</td>\n",
       "      <td>265.0</td>\n",
       "      <td>429.13</td>\n",
       "      <td>42.0</td>\n",
       "    </tr>\n",
       "    <tr>\n",
       "      <td>2097</td>\n",
       "      <td>393069</td>\n",
       "      <td>2.90</td>\n",
       "      <td>274.11</td>\n",
       "      <td>80.50</td>\n",
       "      <td>748.01</td>\n",
       "      <td>14812.0</td>\n",
       "      <td>3397.57</td>\n",
       "      <td>1195.0</td>\n",
       "      <td>274.11</td>\n",
       "      <td>200.0</td>\n",
       "    </tr>\n",
       "    <tr>\n",
       "      <td>2116</td>\n",
       "      <td>69348</td>\n",
       "      <td>2.83</td>\n",
       "      <td>586.66</td>\n",
       "      <td>89.79</td>\n",
       "      <td>846.79</td>\n",
       "      <td>2158.0</td>\n",
       "      <td>2985.90</td>\n",
       "      <td>424.0</td>\n",
       "      <td>586.66</td>\n",
       "      <td>5.0</td>\n",
       "    </tr>\n",
       "    <tr>\n",
       "      <td>2200</td>\n",
       "      <td>92703</td>\n",
       "      <td>2.49</td>\n",
       "      <td>466.01</td>\n",
       "      <td>97.17</td>\n",
       "      <td>371.47</td>\n",
       "      <td>707.0</td>\n",
       "      <td>786.32</td>\n",
       "      <td>419.0</td>\n",
       "      <td>466.01</td>\n",
       "      <td>0.0</td>\n",
       "    </tr>\n",
       "    <tr>\n",
       "      <td>2207</td>\n",
       "      <td>54021</td>\n",
       "      <td>2.54</td>\n",
       "      <td>883.67</td>\n",
       "      <td>84.12</td>\n",
       "      <td>985.85</td>\n",
       "      <td>1721.0</td>\n",
       "      <td>3256.51</td>\n",
       "      <td>467.0</td>\n",
       "      <td>883.67</td>\n",
       "      <td>10.0</td>\n",
       "    </tr>\n",
       "  </tbody>\n",
       "</table>\n",
       "<p>111 rows × 10 columns</p>\n",
       "</div>"
      ],
      "text/plain": [
       "      population  householdsize  autoTheftPerPop  racePctWhite  burglPerPop  \\\n",
       "54        332943           2.54          1394.26         76.96      1698.29   \n",
       "55       1585577           2.63          1554.73         53.52       988.14   \n",
       "58         66049           2.63           273.97         72.45       833.83   \n",
       "99        130474           2.66          1566.00         53.85      2856.93   \n",
       "122        70487           2.59           646.41         81.61      1362.13   \n",
       "...          ...            ...              ...           ...          ...   \n",
       "2086       63221           2.36           429.13         98.23       684.99   \n",
       "2097      393069           2.90           274.11         80.50       748.01   \n",
       "2116       69348           2.83           586.66         89.79       846.79   \n",
       "2200       92703           2.49           466.01         97.17       371.47   \n",
       "2207       54021           2.54           883.67         84.12       985.85   \n",
       "\n",
       "      larcenies  larcPerPop  autoTheft  autoTheftPerPop  arsons  \n",
       "54      15251.0     4707.51     4517.0          1394.26   357.0  \n",
       "55      39181.0     2561.10    23785.0          1554.73  2282.0  \n",
       "58       2316.0     3448.48      184.0           273.97    50.0  \n",
       "99       7719.0     6453.80     1873.0          1566.00   134.0  \n",
       "122      4048.0     5725.76      457.0           646.41     6.0  \n",
       "...         ...         ...        ...              ...     ...  \n",
       "2086     2059.0     3334.25      265.0           429.13    42.0  \n",
       "2097    14812.0     3397.57     1195.0           274.11   200.0  \n",
       "2116     2158.0     2985.90      424.0           586.66     5.0  \n",
       "2200      707.0      786.32      419.0           466.01     0.0  \n",
       "2207     1721.0     3256.51      467.0           883.67    10.0  \n",
       "\n",
       "[111 rows x 10 columns]"
      ]
     },
     "execution_count": 39,
     "metadata": {},
     "output_type": "execute_result"
    }
   ],
   "source": [
    "x1=df[['population','householdsize','autoTheftPerPop','racePctWhite','burglPerPop','larcenies','larcPerPop','autoTheft','autoTheftPerPop','arsons']]\n",
    "x1.isnull().sum()\n",
    "x1"
   ]
  },
  {
   "cell_type": "code",
   "execution_count": 40,
   "metadata": {},
   "outputs": [
    {
     "data": {
      "text/plain": [
       "0"
      ]
     },
     "execution_count": 40,
     "metadata": {},
     "output_type": "execute_result"
    }
   ],
   "source": [
    "y1=df['ViolentCrimesPerPop']\n",
    "y1.isnull().sum()\n"
   ]
  },
  {
   "cell_type": "code",
   "execution_count": 41,
   "metadata": {},
   "outputs": [],
   "source": [
    "from sklearn.model_selection import train_test_split"
   ]
  },
  {
   "cell_type": "code",
   "execution_count": 42,
   "metadata": {},
   "outputs": [],
   "source": [
    "x1_train,x1_test,y1_train,y1_test=train_test_split(x1,y1,test_size=0.30,random_state=42)"
   ]
  },
  {
   "cell_type": "code",
   "execution_count": 43,
   "metadata": {
    "scrolled": true
   },
   "outputs": [],
   "source": [
    "from sklearn.linear_model import Lasso"
   ]
  },
  {
   "cell_type": "code",
   "execution_count": 44,
   "metadata": {},
   "outputs": [
    {
     "name": "stderr",
     "output_type": "stream",
     "text": [
      "C:\\Users\\user8\\Anaconda3\\lib\\site-packages\\sklearn\\linear_model\\coordinate_descent.py:475: ConvergenceWarning: Objective did not converge. You might want to increase the number of iterations. Duality gap: 1278189.4106678371, tolerance: 4993.65283958987\n",
      "  positive)\n"
     ]
    },
    {
     "data": {
      "text/plain": [
       "Lasso(alpha=1, copy_X=True, fit_intercept=True, max_iter=1000, normalize=False,\n",
       "      positive=False, precompute=False, random_state=None, selection='cyclic',\n",
       "      tol=0.0001, warm_start=False)"
      ]
     },
     "execution_count": 44,
     "metadata": {},
     "output_type": "execute_result"
    }
   ],
   "source": [
    "lassomodel=Lasso(alpha=1)\n",
    "lassomodel.fit(x1_train,y1_train)"
   ]
  },
  {
   "cell_type": "code",
   "execution_count": 45,
   "metadata": {},
   "outputs": [
    {
     "data": {
      "text/plain": [
       "71.10494494082555"
      ]
     },
     "execution_count": 45,
     "metadata": {},
     "output_type": "execute_result"
    }
   ],
   "source": [
    "lassomodel.score(x1_test,y1_test)*100"
   ]
  },
  {
   "cell_type": "code",
   "execution_count": 46,
   "metadata": {},
   "outputs": [
    {
     "data": {
      "text/plain": [
       "array([-1.95903137e-03, -1.47619432e+02,  1.04033776e+00, -1.59067089e+01,\n",
       "        4.83695233e-01,  4.31345525e-02, -6.13539716e-02,  1.68344188e-01,\n",
       "       -1.08386115e+00, -1.04031029e+00])"
      ]
     },
     "execution_count": 46,
     "metadata": {},
     "output_type": "execute_result"
    }
   ],
   "source": [
    "lassomodel.coef_"
   ]
  },
  {
   "cell_type": "code",
   "execution_count": 47,
   "metadata": {
    "scrolled": true
   },
   "outputs": [
    {
     "data": {
      "text/plain": [
       "167.449137432242"
      ]
     },
     "execution_count": 47,
     "metadata": {},
     "output_type": "execute_result"
    }
   ],
   "source": [
    "sum(map(lambda z: abs(z),lassomodel.coef_))"
   ]
  },
  {
   "cell_type": "code",
   "execution_count": null,
   "metadata": {},
   "outputs": [],
   "source": []
  }
 ],
 "metadata": {
  "kernelspec": {
   "display_name": "Python 3",
   "language": "python",
   "name": "python3"
  },
  "language_info": {
   "codemirror_mode": {
    "name": "ipython",
    "version": 3
   },
   "file_extension": ".py",
   "mimetype": "text/x-python",
   "name": "python",
   "nbconvert_exporter": "python",
   "pygments_lexer": "ipython3",
   "version": "3.7.4"
  }
 },
 "nbformat": 4,
 "nbformat_minor": 2
}
